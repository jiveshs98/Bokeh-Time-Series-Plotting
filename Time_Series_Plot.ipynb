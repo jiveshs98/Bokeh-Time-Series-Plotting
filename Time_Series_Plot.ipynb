{
 "cells": [
  {
   "cell_type": "code",
   "execution_count": 5,
   "metadata": {},
   "outputs": [],
   "source": [
    "# Visualising Time-Series Plots\n",
    "\n",
    "# Importing the libraries\n",
    "from bokeh.plotting import figure, output_file, show\n",
    "import pandas as pd\n",
    "\n",
    "# Importing the dataset\n",
    "dataset= pd.read_csv(\"adbe.csv\", parse_dates=[\"Date\"])\n",
    "\n",
    "# Creating a figure object\n",
    "p= figure(width=500, height=250, x_axis_type=\"datetime\", sizing_mode= \"stretch_both\")\n",
    "\n",
    "# Plotting the line\n",
    "p.line(dataset[\"Date\"],dataset[\"Close\"],color=\"Red\",alpha=0.5)\n",
    "\n",
    "# Preparing the output file\n",
    "output_file(\"Timeseries.html\")\n",
    "\n",
    "# Showing the output\n",
    "show(p)"
   ]
  },
  {
   "cell_type": "code",
   "execution_count": null,
   "metadata": {},
   "outputs": [],
   "source": []
  }
 ],
 "metadata": {
  "kernelspec": {
   "display_name": "Python 3",
   "language": "python",
   "name": "python3"
  },
  "language_info": {
   "codemirror_mode": {
    "name": "ipython",
    "version": 3
   },
   "file_extension": ".py",
   "mimetype": "text/x-python",
   "name": "python",
   "nbconvert_exporter": "python",
   "pygments_lexer": "ipython3",
   "version": "3.7.0"
  }
 },
 "nbformat": 4,
 "nbformat_minor": 2
}
